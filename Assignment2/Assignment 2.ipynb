{
 "cells": [
  {
   "cell_type": "markdown",
   "metadata": {},
   "source": [
    "# Assignment 2 : Task 1 : 1.1"
   ]
  },
  {
   "cell_type": "code",
   "execution_count": 57,
   "metadata": {},
   "outputs": [
    {
     "name": "stdout",
     "output_type": "stream",
     "text": [
      "15\n",
      "120\n"
     ]
    }
   ],
   "source": [
    "def myreduce(funcPtr,inputList):\n",
    "    init1 = funcPtr(inputList[0],inputList[1])\n",
    "    \n",
    "    for num in range(2,len(inputList)):\n",
    "        init1 = funcPtr(init1, inputList[num])\n",
    "    \n",
    "    return init1\n",
    "\n",
    "\n",
    "l1 = [1,2,3,4,5]\n",
    "f1 = lambda a,b : a + b\n",
    "\n",
    "print(myreduce(f1,l1))\n",
    "\n",
    "f2 = lambda a,b : a * b\n",
    "\n",
    "print(myreduce(f2, l1))"
   ]
  },
  {
   "cell_type": "markdown",
   "metadata": {},
   "source": [
    "# Assignment 2 : Task 1 : 1.2"
   ]
  },
  {
   "cell_type": "code",
   "execution_count": 63,
   "metadata": {},
   "outputs": [
    {
     "name": "stdout",
     "output_type": "stream",
     "text": [
      "['ram', 'laxman', 'bhima']\n",
      "['laxman', 'arjun', 'bhima', 'nakul']\n"
     ]
    }
   ],
   "source": [
    "def myfilter(funcPtr, inputList):\n",
    "    output1 = []\n",
    "    for val in inputList:\n",
    "        if funcPtr(val):\n",
    "            output1.append(val)\n",
    "    \n",
    "    return output1\n",
    "\n",
    "\n",
    "l2 = ['ram','laxman','arjun','bhima','nakul']\n",
    "containsM = lambda val: val.count('m') > 0\n",
    "\n",
    "print(myfilter(containsM,l2))\n",
    "\n",
    "lenGreaterThanThree = lambda val: len(val) > 3\n",
    "        \n",
    "print(myfilter(lenGreaterThanThree,l2))"
   ]
  },
  {
   "cell_type": "markdown",
   "metadata": {},
   "source": [
    "# Assignment 2 Task 1 : 2"
   ]
  },
  {
   "cell_type": "code",
   "execution_count": 54,
   "metadata": {},
   "outputs": [
    {
     "name": "stdout",
     "output_type": "stream",
     "text": [
      "['A', 'C', 'A', 'D', 'G', 'I', 'L', 'D']\n",
      "['x', 'xx', 'xxx', 'xxxx', 'y', 'yy', 'yyy', 'yyyy', 'z', 'zz', 'zzz', 'zzzz']\n",
      "['x', 'y', 'z', 'xx', 'yy', 'zz', 'xxx', 'yyy', 'zzz', 'xxxx', 'yyyy', 'zzzz']\n",
      "[[2], [3], [4], [3], [4], [5], [4], [5], [6]]\n",
      "[[2, 3, 4, 5], [3, 4, 5, 6], [4, 5, 6, 7], [5, 6, 7, 8]]\n",
      "[(1, 1), (2, 1), (3, 1), (1, 2), (2, 2), (3, 2), (1, 3), (2, 3), (3, 3)]\n"
     ]
    }
   ],
   "source": [
    "print([val for val in 'ACADGILD'])\n",
    "print([val*item for val in 'xyz' for item in [1,2,3,4]])\n",
    "print([val*item for val in [1,2,3,4] for item in 'xyz'])\n",
    "print([[val+item] for val in [0,1,2] for item in [2,3,4]])\n",
    "print([[val, val+1, val+2, val+3] for val in [2,3,4,5]])\n",
    "print([(j,i) for i in [1,2,3] for j in [1,2,3]])"
   ]
  },
  {
   "cell_type": "markdown",
   "metadata": {},
   "source": [
    "# Assignment 2 Task 1 : 3"
   ]
  },
  {
   "cell_type": "code",
   "execution_count": 65,
   "metadata": {},
   "outputs": [
    {
     "name": "stdout",
     "output_type": "stream",
     "text": [
      "three\n",
      "aaaa\n"
     ]
    }
   ],
   "source": [
    "def longestWord(inputList):\n",
    "    maxLen = 0\n",
    "    maxWord = ''\n",
    "    for val in inputList:\n",
    "        if len(val) > maxLen:\n",
    "            maxLen = len(val)\n",
    "            maxWord = val\n",
    "            \n",
    "    return maxWord\n",
    "\n",
    "print(longestWord(['one','two','three','four']))\n",
    "print(longestWord(['a','aa','aaa','aaaa','aaaa']))"
   ]
  },
  {
   "cell_type": "markdown",
   "metadata": {},
   "source": [
    "# Assignment 2 Task 2 : 1.1"
   ]
  },
  {
   "cell_type": "code",
   "execution_count": 2,
   "metadata": {},
   "outputs": [
    {
     "name": "stdout",
     "output_type": "stream",
     "text": [
      "6.0\n"
     ]
    }
   ],
   "source": [
    "class Triangle:\n",
    "    def __init__(self, a, b, c):\n",
    "        self.a = a\n",
    "        self.b = b\n",
    "        self.c = c\n",
    "        self.s = (a + b + c)/2\n",
    "        \n",
    "        \n",
    "    def area(self):\n",
    "        return (self.s * (self.s - self.a) * (self.s - self.b) * (self.s - self.c)) ** .5\n",
    "    \n",
    "t = Triangle(3,4,5)\n",
    "print(t.area())\n",
    "        "
   ]
  },
  {
   "cell_type": "markdown",
   "metadata": {},
   "source": [
    "# Assignment 2 Task 2 : 1.2"
   ]
  },
  {
   "cell_type": "code",
   "execution_count": 3,
   "metadata": {},
   "outputs": [
    {
     "name": "stdout",
     "output_type": "stream",
     "text": [
      "['three', 'four']\n"
     ]
    }
   ],
   "source": [
    "def filter_long_words(wordList, n):\n",
    "    filteredWords = []\n",
    "    for word in wordList:\n",
    "        if (len(word) > n):\n",
    "            filteredWords.append(word)\n",
    "            \n",
    "    return filteredWords\n",
    "            \n",
    "print(filter_long_words(['one','two','three','four'],3))"
   ]
  },
  {
   "cell_type": "markdown",
   "metadata": {},
   "source": [
    "# Assignment 2 Task 2 : 2.1"
   ]
  },
  {
   "cell_type": "code",
   "execution_count": 4,
   "metadata": {},
   "outputs": [
    {
     "name": "stdout",
     "output_type": "stream",
     "text": [
      "[3, 3, 5]\n"
     ]
    }
   ],
   "source": [
    "def mapWordsToInt(wordList):\n",
    "    wordLen = []\n",
    "    for word in wordList:\n",
    "        wordLen.append(len(word))\n",
    "        \n",
    "    return wordLen\n",
    "\n",
    "print(mapWordsToInt(['one','two','three']))"
   ]
  },
  {
   "cell_type": "code",
   "execution_count": 10,
   "metadata": {},
   "outputs": [
    {
     "name": "stdout",
     "output_type": "stream",
     "text": [
      "True\n",
      "True\n",
      "False\n"
     ]
    }
   ],
   "source": [
    "def checkIfStringVowel(word):\n",
    "    word = word.lower()\n",
    "    if word in ['a','e','i','o','u']:\n",
    "        print(True)\n",
    "    else:\n",
    "        print(False)\n",
    "    \n",
    "checkIfStringVowel('A')\n",
    "checkIfStringVowel('a')\n",
    "checkIfStringVowel('z')"
   ]
  },
  {
   "cell_type": "code",
   "execution_count": null,
   "metadata": {},
   "outputs": [],
   "source": []
  }
 ],
 "metadata": {
  "kernelspec": {
   "display_name": "Python 3",
   "language": "python",
   "name": "python3"
  },
  "language_info": {
   "codemirror_mode": {
    "name": "ipython",
    "version": 3
   },
   "file_extension": ".py",
   "mimetype": "text/x-python",
   "name": "python",
   "nbconvert_exporter": "python",
   "pygments_lexer": "ipython3",
   "version": "3.7.3"
  }
 },
 "nbformat": 4,
 "nbformat_minor": 4
}
